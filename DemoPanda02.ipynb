{
 "cells": [
  {
   "cell_type": "code",
   "execution_count": 2,
   "metadata": {},
   "outputs": [
    {
     "ename": "NameError",
     "evalue": "name 'multicapmus' is not defined",
     "output_type": "error",
     "traceback": [
      "\u001b[0;31m---------------------------------------------------------------------------\u001b[0m",
      "\u001b[0;31mNameError\u001b[0m                                 Traceback (most recent call last)",
      "\u001b[1;32m/Users/iyun-il/Desktop/work/DemoPanda02.ipynb Cell 1'\u001b[0m in \u001b[0;36m<cell line: 8>\u001b[0;34m()\u001b[0m\n\u001b[1;32m      <a href='vscode-notebook-cell:/Users/iyun-il/Desktop/work/DemoPanda02.ipynb#ch0000000?line=4'>5</a>\u001b[0m \u001b[39m#시리즈 생성\u001b[39;00m\n\u001b[1;32m      <a href='vscode-notebook-cell:/Users/iyun-il/Desktop/work/DemoPanda02.ipynb#ch0000000?line=5'>6</a>\u001b[0m multicampus \u001b[39m=\u001b[39m Series([\u001b[39m100\u001b[39m,\u001b[39m200\u001b[39m,\u001b[39m300\u001b[39m,\u001b[39m400\u001b[39m,\u001b[39m500\u001b[39m],\n\u001b[1;32m      <a href='vscode-notebook-cell:/Users/iyun-il/Desktop/work/DemoPanda02.ipynb#ch0000000?line=6'>7</a>\u001b[0m     index\u001b[39m=\u001b[39m[\u001b[39m'\u001b[39m\u001b[39m22-7-1\u001b[39m\u001b[39m'\u001b[39m,\u001b[39m'\u001b[39m\u001b[39m22-7-2\u001b[39m\u001b[39m'\u001b[39m,\u001b[39m'\u001b[39m\u001b[39m22-7-3\u001b[39m\u001b[39m'\u001b[39m,\u001b[39m'\u001b[39m\u001b[39m22-7-4\u001b[39m\u001b[39m'\u001b[39m,\u001b[39m'\u001b[39m\u001b[39m22-7-5\u001b[39m\u001b[39m'\u001b[39m])\n\u001b[0;32m----> <a href='vscode-notebook-cell:/Users/iyun-il/Desktop/work/DemoPanda02.ipynb#ch0000000?line=7'>8</a>\u001b[0m \u001b[39mprint\u001b[39m(\u001b[39mtype\u001b[39m(multicapmus))\n",
      "\u001b[0;31mNameError\u001b[0m: name 'multicapmus' is not defined"
     ]
    }
   ],
   "source": [
    "#다양하게 선언\n",
    "from pandas import Series, DataFrame\n",
    "import pandas as pd\n",
    "\n",
    "#시리즈 생성\n",
    "multicampus = Series([100,200,300,400,500],\n",
    "    index=['22-7-1','22-7-2','22-7-3','22-7-4','22-7-5'])\n",
    "print(type(multicampus))\n",
    "#shift + enter"
   ]
  },
  {
   "cell_type": "code",
   "execution_count": 7,
   "metadata": {},
   "outputs": [
    {
     "data": {
      "text/plain": [
       "100"
      ]
     },
     "execution_count": 7,
     "metadata": {},
     "output_type": "execute_result"
    }
   ],
   "source": [
    "multicampus['22-7-1']"
   ]
  },
  {
   "cell_type": "code",
   "execution_count": 8,
   "metadata": {},
   "outputs": [
    {
     "name": "stdout",
     "output_type": "stream",
     "text": [
      "{'foreigner': [1, 2, 3, 4, 5, 6], 'sratio': [10, 20, 30, 40, 50, 60], 'org': [100, 200, 300, 400, 500, 600], 'private': [1, 2, 3, 4, 5, 6], 'sprice': [10, 20, 30, 40, 50, 60]}\n"
     ]
    }
   ],
   "source": [
    "data = {\"foreigner\":[1,2,3,4,5,6],\n",
    "    \"sratio\":[10,20,30,40,50,60],\n",
    "    \"org\":[100,200,300,400,500,600],\n",
    "    \"private\":[1,2,3,4,5,6],\n",
    "    \"sprice\":[10,20,30,40,50,60]\n",
    "    }\n",
    "\n",
    "print(data)"
   ]
  },
  {
   "cell_type": "code",
   "execution_count": 9,
   "metadata": {},
   "outputs": [
    {
     "name": "stdout",
     "output_type": "stream",
     "text": [
      "<class 'pandas.core.frame.DataFrame'>\n",
      "   foreigner  sratio  org  private  sprice\n",
      "0          1      10  100        1      10\n",
      "1          2      20  200        2      20\n",
      "2          3      30  300        3      30\n",
      "3          4      40  400        4      40\n",
      "4          5      50  500        5      50\n",
      "5          6      60  600        6      60\n"
     ]
    }
   ],
   "source": [
    "frame = DataFrame(data)\n",
    "print(type(frame))\n",
    "print(frame)"
   ]
  },
  {
   "cell_type": "code",
   "execution_count": 13,
   "metadata": {},
   "outputs": [
    {
     "name": "stdout",
     "output_type": "stream",
     "text": [
      "   private  foreigner  org  sprice  sratio\n",
      "0        1          1  100      10      10\n",
      "1        2          2  200      20      20\n",
      "2        3          3  300      30      30\n",
      "3        4          4  400      40      40\n",
      "4        5          5  500      50      50\n",
      "5        6          6  600      60      60\n"
     ]
    }
   ],
   "source": [
    "frame2 = DataFrame(data,\n",
    "    columns=[\"private\",\"foreigner\",\"org\",\"sprice\",\"sratio\"])\n",
    "    \n",
    "print(frame2)"
   ]
  },
  {
   "cell_type": "code",
   "execution_count": 16,
   "metadata": {},
   "outputs": [
    {
     "name": "stdout",
     "output_type": "stream",
     "text": [
      "          private  foreigner  org  sprice  sratio\n",
      "22-07-01        1          1  100      10      10\n",
      "22-07-02        2          2  200      20      20\n",
      "22-07-03        3          3  300      30      30\n",
      "22-07-04        4          4  400      40      40\n",
      "22-07-05        5          5  500      50      50\n",
      "22-07-06        6          6  600      60      60\n"
     ]
    }
   ],
   "source": [
    "#색인을 변경\n",
    "frame3 = DataFrame(data, \n",
    "    columns=[\"private\",\"foreigner\",\"org\",\"sprice\",\"sratio\"], \n",
    "    index=[\"22-07-01\",\"22-07-02\",\"22-07-03\",\"22-07-04\",\"22-07-05\",\"22-07-06\"])\n",
    "\n",
    "print(frame3)"
   ]
  },
  {
   "cell_type": "code",
   "execution_count": 18,
   "metadata": {},
   "outputs": [
    {
     "name": "stdout",
     "output_type": "stream",
     "text": [
      "   id       name   price           description\n",
      "0   1     iphone  890000      iphone 6s 7 8 x \n",
      "1   2    android  990000         samsung phone\n",
      "2   3   winphone  450000   microsoft winphone \n",
      "<class 'pandas.core.frame.DataFrame'>\n",
      "RangeIndex: 3 entries, 0 to 2\n",
      "Data columns (total 4 columns):\n",
      " #   Column        Non-Null Count  Dtype \n",
      "---  ------        --------------  ----- \n",
      " 0   id            3 non-null      int64 \n",
      " 1    name         3 non-null      object\n",
      " 2    price        3 non-null      int64 \n",
      " 3    description  3 non-null      object\n",
      "dtypes: int64(2), object(2)\n",
      "memory usage: 224.0+ bytes\n",
      "None\n"
     ]
    }
   ],
   "source": [
    "#e데이터 로딩ㄴ\n",
    "df =pd.read_csv(\"/Users/iyun-il/Desktop/work/ex1.csv\")\n",
    "print(df)\n",
    "print(df.info())"
   ]
  },
  {
   "cell_type": "code",
   "execution_count": 20,
   "metadata": {},
   "outputs": [
    {
     "name": "stdout",
     "output_type": "stream",
     "text": [
      "/Users/iyun-il/Desktop/work/ex2.csv not found\n"
     ]
    }
   ],
   "source": [
    "#헤더가 없는 경우\n",
    "!type /Users/iyun-il/Desktop/work/ex2.csv\n"
   ]
  },
  {
   "cell_type": "code",
   "execution_count": 22,
   "metadata": {},
   "outputs": [
    {
     "data": {
      "text/html": [
       "<div>\n",
       "<style scoped>\n",
       "    .dataframe tbody tr th:only-of-type {\n",
       "        vertical-align: middle;\n",
       "    }\n",
       "\n",
       "    .dataframe tbody tr th {\n",
       "        vertical-align: top;\n",
       "    }\n",
       "\n",
       "    .dataframe thead th {\n",
       "        text-align: right;\n",
       "    }\n",
       "</style>\n",
       "<table border=\"1\" class=\"dataframe\">\n",
       "  <thead>\n",
       "    <tr style=\"text-align: right;\">\n",
       "      <th></th>\n",
       "      <th>id</th>\n",
       "      <th>name</th>\n",
       "      <th>price</th>\n",
       "      <th>desc</th>\n",
       "    </tr>\n",
       "  </thead>\n",
       "  <tbody>\n",
       "    <tr>\n",
       "      <th>0</th>\n",
       "      <td>1</td>\n",
       "      <td>iphone</td>\n",
       "      <td>890000</td>\n",
       "      <td>iphone 6s 7 8 x</td>\n",
       "    </tr>\n",
       "    <tr>\n",
       "      <th>1</th>\n",
       "      <td>2</td>\n",
       "      <td>android</td>\n",
       "      <td>990000</td>\n",
       "      <td>samsung phone</td>\n",
       "    </tr>\n",
       "    <tr>\n",
       "      <th>2</th>\n",
       "      <td>3</td>\n",
       "      <td>winphone</td>\n",
       "      <td>450000</td>\n",
       "      <td>microsoft winphone</td>\n",
       "    </tr>\n",
       "  </tbody>\n",
       "</table>\n",
       "</div>"
      ],
      "text/plain": [
       "   id       name   price                  desc\n",
       "0   1     iphone  890000      iphone 6s 7 8 x \n",
       "1   2    android  990000         samsung phone\n",
       "2   3   winphone  450000   microsoft winphone "
      ]
     },
     "execution_count": 22,
     "metadata": {},
     "output_type": "execute_result"
    }
   ],
   "source": [
    "df2 = pd.read_csv(\"/Users/iyun-il/Desktop/work/ex2.csv\",\n",
    "    names=[\"id\",\"name\",\"price\",\"desc\"])\n",
    "df2"
   ]
  },
  {
   "cell_type": "code",
   "execution_count": 25,
   "metadata": {},
   "outputs": [
    {
     "name": "stdout",
     "output_type": "stream",
     "text": [
      "/Users/iyun-il/Desktop/work/ex3.txt not found\n"
     ]
    }
   ],
   "source": [
    "#공백문자가 있는 경우\n",
    "!type /Users/iyun-il/Desktop/work/ex3.txt"
   ]
  },
  {
   "cell_type": "code",
   "execution_count": 27,
   "metadata": {},
   "outputs": [
    {
     "data": {
      "text/html": [
       "<div>\n",
       "<style scoped>\n",
       "    .dataframe tbody tr th:only-of-type {\n",
       "        vertical-align: middle;\n",
       "    }\n",
       "\n",
       "    .dataframe tbody tr th {\n",
       "        vertical-align: top;\n",
       "    }\n",
       "\n",
       "    .dataframe thead th {\n",
       "        text-align: right;\n",
       "    }\n",
       "</style>\n",
       "<table border=\"1\" class=\"dataframe\">\n",
       "  <thead>\n",
       "    <tr style=\"text-align: right;\">\n",
       "      <th></th>\n",
       "      <th>data1</th>\n",
       "      <th>data2</th>\n",
       "      <th>data3</th>\n",
       "    </tr>\n",
       "  </thead>\n",
       "  <tbody>\n",
       "    <tr>\n",
       "      <th>0</th>\n",
       "      <td>1.2</td>\n",
       "      <td>2.3</td>\n",
       "      <td>1.3</td>\n",
       "    </tr>\n",
       "    <tr>\n",
       "      <th>1</th>\n",
       "      <td>0.1</td>\n",
       "      <td>1.5</td>\n",
       "      <td>2.5</td>\n",
       "    </tr>\n",
       "    <tr>\n",
       "      <th>2</th>\n",
       "      <td>3.1</td>\n",
       "      <td>3.2</td>\n",
       "      <td>3.3</td>\n",
       "    </tr>\n",
       "  </tbody>\n",
       "</table>\n",
       "</div>"
      ],
      "text/plain": [
       "   data1  data2  data3\n",
       "0    1.2    2.3    1.3\n",
       "1    0.1    1.5    2.5\n",
       "2    3.1    3.2    3.3"
      ]
     },
     "execution_count": 27,
     "metadata": {},
     "output_type": "execute_result"
    }
   ],
   "source": [
    "df3 = pd.read_table(\"/Users/iyun-il/Desktop/work/ex3.txt\", sep=\"\\s+\")\n",
    "df3"
   ]
  },
  {
   "cell_type": "code",
   "execution_count": 32,
   "metadata": {},
   "outputs": [
    {
     "name": "stdout",
     "output_type": "stream",
     "text": [
      "Using matplotlib backend: MacOSX\n",
      "%pylab is deprecated, use %matplotlib inline and import the required libraries.\n",
      "Populating the interactive namespace from numpy and matplotlib\n"
     ]
    },
    {
     "data": {
      "text/plain": [
       "(array([1., 1., 2., 3., 1., 1., 1.]),\n",
       " array([26.        , 28.57142857, 31.14285714, 33.71428571, 36.28571429,\n",
       "        38.85714286, 41.42857143, 44.        ]),\n",
       " <BarContainer object of 7 artists>)"
      ]
     },
     "execution_count": 32,
     "metadata": {},
     "output_type": "execute_result"
    },
    {
     "data": {
      "image/png": "[encoded data removed]",
      "text/plain": [
       "<Figure size 432x288 with 1 Axes>"
      ]
     },
     "metadata": {
      "needs_background": "light"
     },
     "output_type": "display_data"
    }
   ],
   "source": [
    "%pylab\n",
    "%matplotlib inline\n",
    "import matplotlib.pyplot as plt\n",
    "\n",
    "dfExcel = pd.read_excel(\"/Users/iyun-il/Desktop/work/demo.xlsx\", \"Sheet1\")\n",
    "\n",
    "fig  = plt.figure()\n",
    "ax = fig.add_subplot(1,1,1)\n",
    "\n",
    "ax.hist(dfExcel[\"나이\"], bins=7)"
   ]
  },
  {
   "cell_type": "code",
   "execution_count": null,
   "metadata": {},
   "outputs": [],
   "source": []
  }
 ],
 "metadata": {
  "interpreter": {
   "hash": "aee8b7b246df8f9039afb4144a1f6fd8d2ca17a180786b69acc140d282b71a49"
  },
  "kernelspec": {
   "display_name": "Python 3.9.11 64-bit",
   "language": "python",
   "name": "python3"
  },
  "language_info": {
   "codemirror_mode": {
    "name": "ipython",
    "version": 3
   },
   "file_extension": ".py",
   "mimetype": "text/x-python",
   "name": "python",
   "nbconvert_exporter": "python",
   "pygments_lexer": "ipython3",
   "version": "3.9.11"
  },
  "orig_nbformat": 4
 },
 "nbformat": 4,
 "nbformat_minor": 2
}
