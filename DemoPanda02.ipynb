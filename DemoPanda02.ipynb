{
 "cells": [
  {
   "cell_type": "code",
   "execution_count": 2,
   "metadata": {},
   "outputs": [
    {
     "ename": "NameError",
     "evalue": "name 'multicapmus' is not defined",
     "output_type": "error",
     "traceback": [
      "\u001b[0;31m---------------------------------------------------------------------------\u001b[0m",
      "\u001b[0;31mNameError\u001b[0m                                 Traceback (most recent call last)",
      "\u001b[1;32m/Users/iyun-il/Desktop/work/DemoPanda02.ipynb Cell 1'\u001b[0m in \u001b[0;36m<cell line: 8>\u001b[0;34m()\u001b[0m\n\u001b[1;32m      <a href='vscode-notebook-cell:/Users/iyun-il/Desktop/work/DemoPanda02.ipynb#ch0000000?line=4'>5</a>\u001b[0m \u001b[39m#시리즈 생성\u001b[39;00m\n\u001b[1;32m      <a href='vscode-notebook-cell:/Users/iyun-il/Desktop/work/DemoPanda02.ipynb#ch0000000?line=5'>6</a>\u001b[0m multicampus \u001b[39m=\u001b[39m Series([\u001b[39m100\u001b[39m,\u001b[39m200\u001b[39m,\u001b[39m300\u001b[39m,\u001b[39m400\u001b[39m,\u001b[39m500\u001b[39m],\n\u001b[1;32m      <a href='vscode-notebook-cell:/Users/iyun-il/Desktop/work/DemoPanda02.ipynb#ch0000000?line=6'>7</a>\u001b[0m     index\u001b[39m=\u001b[39m[\u001b[39m'\u001b[39m\u001b[39m22-7-1\u001b[39m\u001b[39m'\u001b[39m,\u001b[39m'\u001b[39m\u001b[39m22-7-2\u001b[39m\u001b[39m'\u001b[39m,\u001b[39m'\u001b[39m\u001b[39m22-7-3\u001b[39m\u001b[39m'\u001b[39m,\u001b[39m'\u001b[39m\u001b[39m22-7-4\u001b[39m\u001b[39m'\u001b[39m,\u001b[39m'\u001b[39m\u001b[39m22-7-5\u001b[39m\u001b[39m'\u001b[39m])\n\u001b[0;32m----> <a href='vscode-notebook-cell:/Users/iyun-il/Desktop/work/DemoPanda02.ipynb#ch0000000?line=7'>8</a>\u001b[0m \u001b[39mprint\u001b[39m(\u001b[39mtype\u001b[39m(multicapmus))\n",
      "\u001b[0;31mNameError\u001b[0m: name 'multicapmus' is not defined"
     ]
    }
   ],
   "source": [
    "#다양하게 선언\n",
    "from pandas import Series, DataFrame\n",
    "import pandas as pd\n",
    "\n",
    "#시리즈 생성\n",
    "multicampus = Series([100,200,300,400,500],\n",
    "    index=['22-7-1','22-7-2','22-7-3','22-7-4','22-7-5'])\n",
    "print(type(multicampus))\n",
    "#shift + enter"
   ]
  },
  {
   "cell_type": "code",
   "execution_count": 7,
   "metadata": {},
   "outputs": [
    {
     "data": {
      "text/plain": [
       "100"
      ]
     },
     "execution_count": 7,
     "metadata": {},
     "output_type": "execute_result"
    }
   ],
   "source": [
    "multicampus['22-7-1']"
   ]
  },
  {
   "cell_type": "code",
   "execution_count": 8,
   "metadata": {},
   "outputs": [
    {
     "name": "stdout",
     "output_type": "stream",
     "text": [
      "{'foreigner': [1, 2, 3, 4, 5, 6], 'sratio': [10, 20, 30, 40, 50, 60], 'org': [100, 200, 300, 400, 500, 600], 'private': [1, 2, 3, 4, 5, 6], 'sprice': [10, 20, 30, 40, 50, 60]}\n"
     ]
    }
   ],
   "source": [
    "data = {\"foreigner\":[1,2,3,4,5,6],\n",
    "    \"sratio\":[10,20,30,40,50,60],\n",
    "    \"org\":[100,200,300,400,500,600],\n",
    "    \"private\":[1,2,3,4,5,6],\n",
    "    \"sprice\":[10,20,30,40,50,60]\n",
    "    }\n",
    "\n",
    "print(data)"
   ]
  },
  {
   "cell_type": "code",
   "execution_count": 9,
   "metadata": {},
   "outputs": [
    {
     "name": "stdout",
     "output_type": "stream",
     "text": [
      "<class 'pandas.core.frame.DataFrame'>\n",
      "   foreigner  sratio  org  private  sprice\n",
      "0          1      10  100        1      10\n",
      "1          2      20  200        2      20\n",
      "2          3      30  300        3      30\n",
      "3          4      40  400        4      40\n",
      "4          5      50  500        5      50\n",
      "5          6      60  600        6      60\n"
     ]
    }
   ],
   "source": [
    "frame = DataFrame(data)\n",
    "print(type(frame))\n",
    "print(frame)"
   ]
  },
  {
   "cell_type": "code",
   "execution_count": 13,
   "metadata": {},
   "outputs": [
    {
     "name": "stdout",
     "output_type": "stream",
     "text": [
      "   private  foreigner  org  sprice  sratio\n",
      "0        1          1  100      10      10\n",
      "1        2          2  200      20      20\n",
      "2        3          3  300      30      30\n",
      "3        4          4  400      40      40\n",
      "4        5          5  500      50      50\n",
      "5        6          6  600      60      60\n"
     ]
    }
   ],
   "source": [
    "frame2 = DataFrame(data,\n",
    "    columns=[\"private\",\"foreigner\",\"org\",\"sprice\",\"sratio\"])\n",
    "    \n",
    "print(frame2)"
   ]
  },
  {
   "cell_type": "code",
   "execution_count": 16,
   "metadata": {},
   "outputs": [
    {
     "name": "stdout",
     "output_type": "stream",
     "text": [
      "          private  foreigner  org  sprice  sratio\n",
      "22-07-01        1          1  100      10      10\n",
      "22-07-02        2          2  200      20      20\n",
      "22-07-03        3          3  300      30      30\n",
      "22-07-04        4          4  400      40      40\n",
      "22-07-05        5          5  500      50      50\n",
      "22-07-06        6          6  600      60      60\n"
     ]
    }
   ],
   "source": [
    "#색인을 변경\n",
    "frame3 = DataFrame(data, \n",
    "    columns=[\"private\",\"foreigner\",\"org\",\"sprice\",\"sratio\"], \n",
    "    index=[\"22-07-01\",\"22-07-02\",\"22-07-03\",\"22-07-04\",\"22-07-05\",\"22-07-06\"])\n",
    "\n",
    "print(frame3)"
   ]
  },
  {
   "cell_type": "code",
   "execution_count": null,
   "metadata": {},
   "outputs": [],
   "source": []
  }
 ],
 "metadata": {
  "interpreter": {
   "hash": "aee8b7b246df8f9039afb4144a1f6fd8d2ca17a180786b69acc140d282b71a49"
  },
  "kernelspec": {
   "display_name": "Python 3.9.11 64-bit",
   "language": "python",
   "name": "python3"
  },
  "language_info": {
   "codemirror_mode": {
    "name": "ipython",
    "version": 3
   },
   "file_extension": ".py",
   "mimetype": "text/x-python",
   "name": "python",
   "nbconvert_exporter": "python",
   "pygments_lexer": "ipython3",
   "version": "3.9.11"
  },
  "orig_nbformat": 4
 },
 "nbformat": 4,
 "nbformat_minor": 2
}
